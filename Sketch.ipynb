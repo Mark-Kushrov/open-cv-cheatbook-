{
 "cells": [
  {
   "cell_type": "code",
   "execution_count": 3,
   "metadata": {},
   "outputs": [
    {
     "name": "stdout",
     "output_type": "stream",
     "text": [
      "Collecting opencv-python\n",
      "\u001b[?25l  Downloading https://files.pythonhosted.org/packages/b6/59/490df75153cf1dcd4d6cf870e2b1307e3b2581250fb58926890f973e1a4a/opencv_python-4.5.2.54-cp37-cp37m-macosx_10_15_x86_64.whl (43.7MB)\n",
      "\u001b[K     |████████████████████████████████| 43.7MB 574kB/s eta 0:00:01\n",
      "\u001b[?25hRequirement already satisfied: numpy>=1.14.5 in /Users/siddheshshivdikar/anaconda3/lib/python3.7/site-packages (from opencv-python) (1.19.5)\n",
      "Installing collected packages: opencv-python\n",
      "Successfully installed opencv-python-4.5.2.54\n"
     ]
    }
   ],
   "source": [
    "!pip install opencv-python\n",
    "import cv2\n",
    "import numpy as np"
   ]
  },
  {
   "cell_type": "code",
   "execution_count": null,
   "metadata": {},
   "outputs": [],
   "source": [
    "def  sketch(image):\n",
    "    #greyscale\n",
    "    i_gray = cv2.cvtColor(image, cv2.COLOR_BGR2GRAY)\n",
    "    #blur\n",
    "    i_gray_blur = cv2.GaussianBlur(i_gray, (5,5), 0)\n",
    "    #canny\n",
    "    canny = cv2.Canny(i_gray_blur, 10, 70)\n",
    "    \n",
    "    #inverting image\n",
    "    ret,mask = cv2.threshold(canny, 70, 255, cv2.THRESH_BINARY_INV)\n",
    "    return mask\n",
    "cap = cv2.VideoCapture(0)\n",
    "\n",
    "while True:\n",
    "    ret, frame = cap.read()\n",
    "    cv2.imshow('Sketch stream', sketch(frame))\n",
    "    if cv2.waitKey(1) == 13: #13enter key\n",
    "        break\n",
    "\n",
    "        \n",
    "cap.release()\n",
    "cv2.destroyAllWindows()\n",
    "    "
   ]
  },
  {
   "cell_type": "code",
   "execution_count": null,
   "metadata": {},
   "outputs": [],
   "source": []
  }
 ],
 "metadata": {
  "kernelspec": {
   "display_name": "Python 3",
   "language": "python",
   "name": "python3"
  },
  "language_info": {
   "codemirror_mode": {
    "name": "ipython",
    "version": 3
   },
   "file_extension": ".py",
   "mimetype": "text/x-python",
   "name": "python",
   "nbconvert_exporter": "python",
   "pygments_lexer": "ipython3",
   "version": "3.7.3"
  }
 },
 "nbformat": 4,
 "nbformat_minor": 2
}
